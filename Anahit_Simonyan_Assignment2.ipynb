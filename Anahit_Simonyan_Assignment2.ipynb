{
 "cells": [
  {
   "cell_type": "code",
   "execution_count": null,
   "id": "6a561e04",
   "metadata": {},
   "outputs": [],
   "source": [
    "import requests\n",
    "from bs4 import BeautifulSoup\n",
    "import pandas as pd\n",
    "\n",
    "quotes_url = 'https://quotes.toscrape.com/page/'\n",
    "\n",
    "quotes = []\n",
    "authors = []\n",
    "tags_list = []\n",
    "born_info = []\n",
    "descriptions = []\n",
    "\n",
    "page_num = 1\n",
    "\n",
    "while True:\n",
    "    response = requests.get(quotes_url + str(page_num))\n",
    "    soup = BeautifulSoup(response.text, 'html.parser')\n",
    "    \n",
    "    quote_divs = soup.find_all('div', class_='quote')\n",
    "    \n",
    "    if not quote_divs:\n",
    "        break\n",
    "\n",
    "    for quote in quote_divs:\n",
    "        text = quote.find('span', class_='text').text\n",
    "        author = quote.find('small', class_='author').text\n",
    "        tags = [tag.text for tag in quote.find_all('a', class_='tag')]\n",
    "        \n",
    "        quotes.append(text)\n",
    "        authors.append(author)\n",
    "        tags_list.append(tags)\n",
    "\n",
    "        author_url = quote.find('a')['href']\n",
    "        author_page = requests.get('https://quotes.toscrape.com' + author_url)\n",
    "        author_soup = BeautifulSoup(author_page.text, 'html.parser')\n",
    "        born = author_soup.find('span', class_='author-born-date').text\n",
    "        born += ', ' + author_soup.find('span', class_='author-born-location').text\n",
    "        description = author_soup.find('div', class_='author-description').text.strip()\n",
    "        \n",
    "        born_info.append(born)\n",
    "        descriptions.append(description)\n",
    "\n",
    "    page_num += 1\n",
    "    \n",
    "df = pd.DataFrame({\n",
    "    'Quote': quotes,\n",
    "    'Author': authors,\n",
    "    'Tags': tags_list,\n",
    "    'Born': born_info,\n",
    "    'Description': descriptions\n",
    "})\n",
    "\n",
    "df.to_csv('quotes.csv', index=False)\n",
    "print(\"Data saved to 'quotes.csv'\")"
   ]
  },
  {
   "cell_type": "code",
   "execution_count": null,
   "id": "946ed579",
   "metadata": {},
   "outputs": [],
   "source": []
  }
 ],
 "metadata": {
  "kernelspec": {
   "display_name": "Python 3 (ipykernel)",
   "language": "python",
   "name": "python3"
  },
  "language_info": {
   "codemirror_mode": {
    "name": "ipython",
    "version": 3
   },
   "file_extension": ".py",
   "mimetype": "text/x-python",
   "name": "python",
   "nbconvert_exporter": "python",
   "pygments_lexer": "ipython3",
   "version": "3.11.5"
  }
 },
 "nbformat": 4,
 "nbformat_minor": 5
}
